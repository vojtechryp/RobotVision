{
 "cells": [
  {
   "cell_type": "code",
   "execution_count": 12,
   "id": "c394a8b5-8a32-4a0c-8779-e41722ef5641",
   "metadata": {},
   "outputs": [],
   "source": [
    "from scipy.io import loadmat\n",
    "import sys\n",
    "import skimage\n",
    "import scipy\n",
    "from matplotlib import pyplot as plt\n",
    "import numpy as np"
   ]
  },
  {
   "cell_type": "code",
   "execution_count": 30,
   "id": "71a73258-7b35-46c8-aaa2-eacf2fdd0286",
   "metadata": {},
   "outputs": [],
   "source": [
    "data = loadmat('Brain.mat')\n",
    "T1 = data['T1']\n",
    "Label = data['label']"
   ]
  },
  {
   "cell_type": "code",
   "execution_count": 37,
   "id": "c179e779-41dd-4bc8-b2d3-4ce5ec7fa0ee",
   "metadata": {},
   "outputs": [],
   "source": [
    "data = 1-1"
   ]
  },
  {
   "cell_type": "code",
   "execution_count": null,
   "id": "f4771049-5d68-4e86-b2de-681733deafd2",
   "metadata": {},
   "outputs": [],
   "source": []
  }
 ],
 "metadata": {
  "kernelspec": {
   "display_name": "Python 3 (ipykernel)",
   "language": "python",
   "name": "python3"
  },
  "language_info": {
   "codemirror_mode": {
    "name": "ipython",
    "version": 3
   },
   "file_extension": ".py",
   "mimetype": "text/x-python",
   "name": "python",
   "nbconvert_exporter": "python",
   "pygments_lexer": "ipython3",
   "version": "3.11.7"
  }
 },
 "nbformat": 4,
 "nbformat_minor": 5
}
